{
 "cells": [
  {
   "cell_type": "markdown",
   "id": "69dd67f5",
   "metadata": {},
   "source": [
    "\n",
    "    # GenSight Prototype\n",
    "\n",
    "    This notebook demonstrates how to load and analyze daily IT issue tracker data using GenSight. It visualizes daily trends, engineer workload, and common issues using data from `demo_file.xlsx`.\n",
    "    "
   ]
  },
  {
   "cell_type": "code",
   "execution_count": 1,
   "id": "ec154e12",
   "metadata": {},
   "outputs": [],
   "source": [
    "# Import necessary modules\n",
    "import sys\n",
    "import os\n",
    "sys.path.append(os.path.abspath('../src'))\n",
    "\n",
    "import pandas as pd\n",
    "from data_loader import load_excel_data # type: ignore\n",
    "from aggregator import generate_summaries # type: ignore\n",
    "from visualizer import plot_daily_summary, plot_weekly_summary, plot_common_issues, plot_engineer_workload  # type: ignore\n",
    "from genai_insights import generate_summary_text # type: ignore\n",
    "\n",
    "    "
   ]
  },
  {
   "cell_type": "markdown",
   "id": "26d09005",
   "metadata": {},
   "source": [
    "\n",
    "    ## Load Excel Data\n",
    "\n",
    "    We load the issue tracker data from the Excel file located in the `sample_data` folder. Each sheet is named by date and contains daily issue records.\n",
    "    "
   ]
  },
  {
   "cell_type": "code",
   "execution_count": 2,
   "id": "1dc15de0",
   "metadata": {},
   "outputs": [
    {
     "data": {
      "text/html": [
       "<div>\n",
       "<style scoped>\n",
       "    .dataframe tbody tr th:only-of-type {\n",
       "        vertical-align: middle;\n",
       "    }\n",
       "\n",
       "    .dataframe tbody tr th {\n",
       "        vertical-align: top;\n",
       "    }\n",
       "\n",
       "    .dataframe thead th {\n",
       "        text-align: right;\n",
       "    }\n",
       "</style>\n",
       "<table border=\"1\" class=\"dataframe\">\n",
       "  <thead>\n",
       "    <tr style=\"text-align: right;\">\n",
       "      <th></th>\n",
       "      <th>Associate ID</th>\n",
       "      <th>Associate Name</th>\n",
       "      <th>Location</th>\n",
       "      <th>Issue Description</th>\n",
       "      <th>Ticket number</th>\n",
       "      <th>Status / Remarks</th>\n",
       "      <th>Engineer Name</th>\n",
       "      <th>Additional info</th>\n",
       "      <th>Date</th>\n",
       "    </tr>\n",
       "  </thead>\n",
       "  <tbody>\n",
       "    <tr>\n",
       "      <th>0</th>\n",
       "      <td>2280630</td>\n",
       "      <td>Priyanka Arghode</td>\n",
       "      <td>India</td>\n",
       "      <td>No transcript available</td>\n",
       "      <td>Case 04498032</td>\n",
       "      <td>Case submitted to QDS DAX Support</td>\n",
       "      <td>Jagadish</td>\n",
       "      <td>NaN</td>\n",
       "      <td>2025-08-01</td>\n",
       "    </tr>\n",
       "    <tr>\n",
       "      <th>1</th>\n",
       "      <td>2287849</td>\n",
       "      <td>Arunmozhy Mani</td>\n",
       "      <td>India</td>\n",
       "      <td>No transcript available</td>\n",
       "      <td>Case 04498039</td>\n",
       "      <td>Case submitted to QDS DAX Support</td>\n",
       "      <td>Jagadish</td>\n",
       "      <td>NaN</td>\n",
       "      <td>2025-08-01</td>\n",
       "    </tr>\n",
       "    <tr>\n",
       "      <th>2</th>\n",
       "      <td>2285926</td>\n",
       "      <td>Victor Babu</td>\n",
       "      <td>India</td>\n",
       "      <td>Unable to use (MFA)</td>\n",
       "      <td>NaN</td>\n",
       "      <td>Resolved</td>\n",
       "      <td>Sanjay</td>\n",
       "      <td>NaN</td>\n",
       "      <td>2025-08-04</td>\n",
       "    </tr>\n",
       "    <tr>\n",
       "      <th>3</th>\n",
       "      <td>2285926</td>\n",
       "      <td>Victor Babu</td>\n",
       "      <td>India</td>\n",
       "      <td>Tru time issue</td>\n",
       "      <td>NaN</td>\n",
       "      <td>Resolved</td>\n",
       "      <td>Sanjay</td>\n",
       "      <td>NaN</td>\n",
       "      <td>2025-08-04</td>\n",
       "    </tr>\n",
       "    <tr>\n",
       "      <th>4</th>\n",
       "      <td>2288719</td>\n",
       "      <td>Praveen PR</td>\n",
       "      <td>India</td>\n",
       "      <td>MFA issue</td>\n",
       "      <td>NaN</td>\n",
       "      <td>Resolved</td>\n",
       "      <td>Sanjay</td>\n",
       "      <td>NaN</td>\n",
       "      <td>2025-08-04</td>\n",
       "    </tr>\n",
       "  </tbody>\n",
       "</table>\n",
       "</div>"
      ],
      "text/plain": [
       "  Associate ID    Associate Name Location        Issue Description  \\\n",
       "0      2280630  Priyanka Arghode    India  No transcript available   \n",
       "1      2287849    Arunmozhy Mani    India  No transcript available   \n",
       "2      2285926       Victor Babu    India      Unable to use (MFA)   \n",
       "3      2285926       Victor Babu    India           Tru time issue   \n",
       "4      2288719        Praveen PR    India                MFA issue   \n",
       "\n",
       "   Ticket number                   Status / Remarks Engineer Name  \\\n",
       "0  Case 04498032  Case submitted to QDS DAX Support      Jagadish   \n",
       "1  Case 04498039  Case submitted to QDS DAX Support      Jagadish   \n",
       "2            NaN                           Resolved        Sanjay   \n",
       "3            NaN                           Resolved        Sanjay   \n",
       "4            NaN                           Resolved        Sanjay   \n",
       "\n",
       "   Additional info       Date  \n",
       "0              NaN 2025-08-01  \n",
       "1              NaN 2025-08-01  \n",
       "2              NaN 2025-08-04  \n",
       "3              NaN 2025-08-04  \n",
       "4              NaN 2025-08-04  "
      ]
     },
     "execution_count": 2,
     "metadata": {},
     "output_type": "execute_result"
    }
   ],
   "source": [
    "\n",
    "# Load the Excel data\n",
    "file_path = '../sample_data/demo_file.xlsx'\n",
    "df = load_excel_data(file_path)\n",
    "df['Date'] = pd.to_datetime(df['Date'])\n",
    "df.head()\n",
    "    "
   ]
  },
  {
   "cell_type": "markdown",
   "id": "55579261",
   "metadata": {},
   "source": [
    "\n",
    "    ## Generate Summaries\n",
    "\n",
    "    We generate daily, weekly, and monthly summaries, engineer workload distribution, and the top 10 most common issues.\n",
    "    "
   ]
  },
  {
   "cell_type": "code",
   "execution_count": 3,
   "id": "67f42266",
   "metadata": {},
   "outputs": [],
   "source": [
    "\n",
    "# Generate summaries\n",
    "daily_summary, weekly_summary, monthly_summary, common_issues, engineer_workload = generate_summaries(df)\n",
    "    "
   ]
  },
  {
   "cell_type": "markdown",
   "id": "7933fcb3",
   "metadata": {},
   "source": [
    "\n",
    "    ## Visualize Data\n",
    "\n",
    "    We use bar plots to visualize:\n",
    "    - Daily issue count\n",
    "    - Weekly issue count\n",
    "    - Top 10 common issues\n",
    "    - Engineer workload\n",
    "    "
   ]
  },
  {
   "cell_type": "code",
   "execution_count": 6,
   "id": "87535c59",
   "metadata": {},
   "outputs": [
    {
     "name": "stderr",
     "output_type": "stream",
     "text": [
      "/workspaces/GenSight/gensightenv/src/visualizer.py:6: FutureWarning: \n",
      "\n",
      "Passing `palette` without assigning `hue` is deprecated and will be removed in v0.14.0. Assign the `x` variable to `hue` and set `legend=False` for the same effect.\n",
      "\n",
      "  sns.barplot(data=daily_summary, x='Date', y='Issue Count', palette='Blues')\n",
      "/workspaces/GenSight/gensightenv/src/visualizer.py:21: FutureWarning: \n",
      "\n",
      "Passing `palette` without assigning `hue` is deprecated and will be removed in v0.14.0. Assign the `x` variable to `hue` and set `legend=False` for the same effect.\n",
      "\n",
      "  sns.barplot(data=weekly_summary, x='Week', y='Issue Count', palette='Greens')\n"
     ]
    }
   ],
   "source": [
    "\n",
    "# Visualize the summaries\n",
    "%matplotlib inline\n",
    "plot_daily_summary(daily_summary)\n",
    "plot_weekly_summary(weekly_summary)\n",
    "plot_common_issues(common_issues)\n",
    "plot_engineer_workload(engineer_workload)\n",
    "\n",
    "    "
   ]
  },
  {
   "cell_type": "markdown",
   "id": "41c898e9",
   "metadata": {},
   "source": [
    "\n",
    "    ## Generate Summary Text\n",
    "\n",
    "    We use GenAI to generate a natural language summary of the trends and insights from the data.\n",
    "    "
   ]
  },
  {
   "cell_type": "code",
   "execution_count": 5,
   "id": "9bf1fa10",
   "metadata": {},
   "outputs": [
    {
     "name": "stdout",
     "output_type": "stream",
     "text": [
      "\n",
      "## Weekly Operational Summary\n",
      "\n",
      "This report provides a structured overview of issue trends, recurring challenges, and individual engineer contributions based on the submitted tracker data.\n",
      "\n",
      "---\n",
      "\n",
      "### Daily Trends\n",
      "- **Peak Issue Day:** August 08, 2025 — 13 issues recorded.\n",
      "- **Average Daily Issues:** 6.1 issues per day.\n",
      "\n",
      "### Weekly Trends\n",
      "- **Peak Issue Week:** Commencing August 18, 2025 — 37 issues recorded.\n",
      "- **Average Weekly Issues:** 25.6 issues per week.\n",
      "\n",
      "### Common Issues\n",
      "- **Most Frequently Reported Issue:** Non-Compliant Prohance software installed in Asset. (reported 9 times)\n",
      "\n",
      "### Engineer Performance\n",
      "- **Top Performing Engineer:** Jagadish with 66 issues resolved\n",
      "\n",
      "---\n",
      "\n",
      "*This summary has been automatically generated by the GenSight platform to support data-driven decision-making and operational transparency.*\n",
      "\n"
     ]
    }
   ],
   "source": [
    "\n",
    "# Generate and display summary text\n",
    "summary_text = generate_summary_text(daily_summary, weekly_summary, common_issues, engineer_workload)\n",
    "print(summary_text)\n",
    "    "
   ]
  }
 ],
 "metadata": {
  "kernelspec": {
   "display_name": "Python 3",
   "language": "python",
   "name": "python3"
  },
  "language_info": {
   "codemirror_mode": {
    "name": "ipython",
    "version": 3
   },
   "file_extension": ".py",
   "mimetype": "text/x-python",
   "name": "python",
   "nbconvert_exporter": "python",
   "pygments_lexer": "ipython3",
   "version": "3.12.11"
  }
 },
 "nbformat": 4,
 "nbformat_minor": 5
}
