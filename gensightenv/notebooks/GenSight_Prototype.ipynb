{
 "cells": [
  {
   "cell_type": "markdown",
   "id": "69dd67f5",
   "metadata": {},
   "source": [
    "\n",
    "    # GenSight Prototype\n",
    "\n",
    "    This notebook demonstrates how to load and analyze daily IT issue tracker data using GenSight. It visualizes daily trends, engineer workload, and common issues using data from `demo_file.xlsx`.\n",
    "    "
   ]
  },
  {
   "cell_type": "code",
   "execution_count": null,
   "id": "ec154e12",
   "metadata": {},
   "outputs": [],
   "source": [
    "# Import necessary modules\n",
    "import sys\n",
    "import os\n",
    "sys.path.append(os.path.abspath('../src'))\n",
    "\n",
    "import pandas as pd\n",
    "from data_loader import load_excel_data\n",
    "from aggregator import generate_summaries\n",
    "from visualizer import plot_daily_summary, plot_weekly_summary, plot_common_issues, plot_engineer_workload \n",
    "from genai_insights import generate_summary_text\n",
    "\n",
    "    "
   ]
  },
  {
   "cell_type": "markdown",
   "id": "26d09005",
   "metadata": {},
   "source": [
    "\n",
    "    ## Load Excel Data\n",
    "\n",
    "    We load the issue tracker data from the Excel file located in the `sample_data` folder. Each sheet is named by date and contains daily issue records.\n",
    "    "
   ]
  },
  {
   "cell_type": "code",
   "execution_count": null,
   "id": "1dc15de0",
   "metadata": {},
   "outputs": [],
   "source": [
    "\n",
    "# Load the Excel data\n",
    "file_path = '../sample_data/demo_file.xlsx'\n",
    "df = load_excel_data(file_path)\n",
    "df['Date'] = pd.to_datetime(df['Date'])\n",
    "df.head()\n",
    "    "
   ]
  },
  {
   "cell_type": "markdown",
   "id": "55579261",
   "metadata": {},
   "source": [
    "\n",
    "    ## Generate Summaries\n",
    "\n",
    "    We generate daily, weekly, and monthly summaries, engineer workload distribution, and the top 10 most common issues.\n",
    "    "
   ]
  },
  {
   "cell_type": "code",
   "execution_count": null,
   "id": "67f42266",
   "metadata": {},
   "outputs": [],
   "source": [
    "\n",
    "# Generate summaries\n",
    "daily_summary, weekly_summary, monthly_summary, engineer_workload, common_issues = generate_summaries(df)\n",
    "    "
   ]
  },
  {
   "cell_type": "markdown",
   "id": "7933fcb3",
   "metadata": {},
   "source": [
    "\n",
    "    ## Visualize Data\n",
    "\n",
    "    We use bar plots to visualize:\n",
    "    - Daily issue count\n",
    "    - Weekly issue count\n",
    "    - Top 10 common issues\n",
    "    - Engineer workload\n",
    "    "
   ]
  },
  {
   "cell_type": "code",
   "execution_count": null,
   "id": "87535c59",
   "metadata": {},
   "outputs": [],
   "source": [
    "\n",
    "# Visualize the summaries\n",
    "%matplotlib inline\n",
    "plot_daily_summary(daily_summary)\n",
    "plot_weekly_summary(weekly_summary)\n",
    "plot_common_issues(common_issues)\n",
    "plot_engineer_workload(engineer_workload)\n",
    "\n",
    "    "
   ]
  },
  {
   "cell_type": "markdown",
   "id": "41c898e9",
   "metadata": {},
   "source": [
    "\n",
    "    ## Generate Summary Text\n",
    "\n",
    "    We use GenAI to generate a natural language summary of the trends and insights from the data.\n",
    "    "
   ]
  },
  {
   "cell_type": "code",
   "execution_count": 6,
   "id": "9bf1fa10",
   "metadata": {},
   "outputs": [
    {
     "ename": "KeyError",
     "evalue": "'Issue Description'",
     "output_type": "error",
     "traceback": [
      "\u001b[31m---------------------------------------------------------------------------\u001b[39m",
      "\u001b[31mKeyError\u001b[39m                                  Traceback (most recent call last)",
      "\u001b[36mFile \u001b[39m\u001b[32m~/.local/lib/python3.12/site-packages/pandas/core/indexes/base.py:3812\u001b[39m, in \u001b[36mIndex.get_loc\u001b[39m\u001b[34m(self, key)\u001b[39m\n\u001b[32m   3811\u001b[39m \u001b[38;5;28;01mtry\u001b[39;00m:\n\u001b[32m-> \u001b[39m\u001b[32m3812\u001b[39m     \u001b[38;5;28;01mreturn\u001b[39;00m \u001b[38;5;28;43mself\u001b[39;49m\u001b[43m.\u001b[49m\u001b[43m_engine\u001b[49m\u001b[43m.\u001b[49m\u001b[43mget_loc\u001b[49m\u001b[43m(\u001b[49m\u001b[43mcasted_key\u001b[49m\u001b[43m)\u001b[49m\n\u001b[32m   3813\u001b[39m \u001b[38;5;28;01mexcept\u001b[39;00m \u001b[38;5;167;01mKeyError\u001b[39;00m \u001b[38;5;28;01mas\u001b[39;00m err:\n",
      "\u001b[36mFile \u001b[39m\u001b[32mpandas/_libs/index.pyx:167\u001b[39m, in \u001b[36mpandas._libs.index.IndexEngine.get_loc\u001b[39m\u001b[34m()\u001b[39m\n",
      "\u001b[36mFile \u001b[39m\u001b[32mpandas/_libs/index.pyx:196\u001b[39m, in \u001b[36mpandas._libs.index.IndexEngine.get_loc\u001b[39m\u001b[34m()\u001b[39m\n",
      "\u001b[36mFile \u001b[39m\u001b[32mpandas/_libs/hashtable_class_helper.pxi:7088\u001b[39m, in \u001b[36mpandas._libs.hashtable.PyObjectHashTable.get_item\u001b[39m\u001b[34m()\u001b[39m\n",
      "\u001b[36mFile \u001b[39m\u001b[32mpandas/_libs/hashtable_class_helper.pxi:7096\u001b[39m, in \u001b[36mpandas._libs.hashtable.PyObjectHashTable.get_item\u001b[39m\u001b[34m()\u001b[39m\n",
      "\u001b[31mKeyError\u001b[39m: 'Issue Description'",
      "\nThe above exception was the direct cause of the following exception:\n",
      "\u001b[31mKeyError\u001b[39m                                  Traceback (most recent call last)",
      "\u001b[36mCell\u001b[39m\u001b[36m \u001b[39m\u001b[32mIn[6]\u001b[39m\u001b[32m, line 2\u001b[39m\n\u001b[32m      1\u001b[39m \u001b[38;5;66;03m# Generate and display summary text\u001b[39;00m\n\u001b[32m----> \u001b[39m\u001b[32m2\u001b[39m summary_text = \u001b[43mgenerate_summary_text\u001b[49m\u001b[43m(\u001b[49m\u001b[43mdaily_summary\u001b[49m\u001b[43m,\u001b[49m\u001b[43m \u001b[49m\u001b[43mweekly_summary\u001b[49m\u001b[43m,\u001b[49m\u001b[43m \u001b[49m\u001b[43mcommon_issues\u001b[49m\u001b[43m,\u001b[49m\u001b[43m \u001b[49m\u001b[43mengineer_workload\u001b[49m\u001b[43m)\u001b[49m\n\u001b[32m      3\u001b[39m \u001b[38;5;28mprint\u001b[39m(summary_text)\n",
      "\u001b[36mFile \u001b[39m\u001b[32m/workspaces/GenSight/gensightenv/src/genai_insights.py:12\u001b[39m, in \u001b[36mgenerate_summary_text\u001b[39m\u001b[34m(daily_summary, weekly_summary, engineer_workload, common_issues)\u001b[39m\n\u001b[32m      1\u001b[39m \u001b[38;5;28;01mdef\u001b[39;00m\u001b[38;5;250m \u001b[39m\u001b[34mgenerate_summary_text\u001b[39m(daily_summary, weekly_summary, engineer_workload, common_issues):\n\u001b[32m      2\u001b[39m     summary = \u001b[33mf\u001b[39m\u001b[33m\"\"\"\u001b[39m\n\u001b[32m      3\u001b[39m \u001b[33m    Daily Trends:\u001b[39m\n\u001b[32m      4\u001b[39m \u001b[33m    - Peak issue day: \u001b[39m\u001b[38;5;132;01m{\u001b[39;00mdaily_summary.loc[daily_summary[\u001b[33m'\u001b[39m\u001b[33mIssue Count\u001b[39m\u001b[33m'\u001b[39m].idxmax(),\u001b[38;5;250m \u001b[39m\u001b[33m'\u001b[39m\u001b[33mDate\u001b[39m\u001b[33m'\u001b[39m]\u001b[38;5;132;01m}\u001b[39;00m\u001b[33m with \u001b[39m\u001b[38;5;132;01m{\u001b[39;00mdaily_summary[\u001b[33m'\u001b[39m\u001b[33mIssue Count\u001b[39m\u001b[33m'\u001b[39m].max()\u001b[38;5;132;01m}\u001b[39;00m\u001b[33m issues.\u001b[39m\n\u001b[32m      5\u001b[39m \u001b[33m    - Average daily issues: \u001b[39m\u001b[38;5;132;01m{\u001b[39;00mdaily_summary[\u001b[33m'\u001b[39m\u001b[33mIssue Count\u001b[39m\u001b[33m'\u001b[39m].mean()\u001b[38;5;132;01m:\u001b[39;00m\u001b[33m.2f\u001b[39m\u001b[38;5;132;01m}\u001b[39;00m\n\u001b[32m      6\u001b[39m \n\u001b[32m      7\u001b[39m \u001b[33m    Weekly Trends:\u001b[39m\n\u001b[32m      8\u001b[39m \u001b[33m    - Peak issue week: \u001b[39m\u001b[38;5;132;01m{\u001b[39;00mweekly_summary.loc[weekly_summary[\u001b[33m'\u001b[39m\u001b[33mIssue Count\u001b[39m\u001b[33m'\u001b[39m].idxmax(),\u001b[38;5;250m \u001b[39m\u001b[33m'\u001b[39m\u001b[33mWeek\u001b[39m\u001b[33m'\u001b[39m]\u001b[38;5;132;01m}\u001b[39;00m\u001b[33m with \u001b[39m\u001b[38;5;132;01m{\u001b[39;00mweekly_summary[\u001b[33m'\u001b[39m\u001b[33mIssue Count\u001b[39m\u001b[33m'\u001b[39m].max()\u001b[38;5;132;01m}\u001b[39;00m\u001b[33m issues.\u001b[39m\n\u001b[32m      9\u001b[39m \u001b[33m    - Average weekly issues: \u001b[39m\u001b[38;5;132;01m{\u001b[39;00mweekly_summary[\u001b[33m'\u001b[39m\u001b[33mIssue Count\u001b[39m\u001b[33m'\u001b[39m].mean()\u001b[38;5;132;01m:\u001b[39;00m\u001b[33m.2f\u001b[39m\u001b[38;5;132;01m}\u001b[39;00m\n\u001b[32m     10\u001b[39m \n\u001b[32m     11\u001b[39m \u001b[33m    Common Issues:\u001b[39m\n\u001b[32m---> \u001b[39m\u001b[32m12\u001b[39m \u001b[33m    - Most frequent issue: \u001b[39m\u001b[38;5;132;01m{\u001b[39;00m\u001b[43mcommon_issues\u001b[49m\u001b[43m.\u001b[49m\u001b[43miloc\u001b[49m\u001b[43m[\u001b[49m\u001b[32;43m0\u001b[39;49m\u001b[43m]\u001b[49m\u001b[43m[\u001b[49m\u001b[33;43m'\u001b[39;49m\u001b[33;43mIssue Description\u001b[39;49m\u001b[33;43m'\u001b[39;49m\u001b[43m]\u001b[49m\u001b[38;5;132;01m}\u001b[39;00m\u001b[33m (\u001b[39m\u001b[38;5;132;01m{\u001b[39;00mcommon_issues.iloc[\u001b[32m0\u001b[39m][\u001b[33m'\u001b[39m\u001b[33mCount\u001b[39m\u001b[33m'\u001b[39m]\u001b[38;5;132;01m}\u001b[39;00m\u001b[33m occurrences)\u001b[39m\n\u001b[32m     13\u001b[39m \u001b[33m    \u001b[39m\n\u001b[32m     14\u001b[39m \u001b[33m    Engineer Performance:\u001b[39m\n\u001b[32m     15\u001b[39m \u001b[33m    - Top engineer: \u001b[39m\u001b[38;5;132;01m{\u001b[39;00mengineer_workload.iloc[\u001b[32m0\u001b[39m][\u001b[33m'\u001b[39m\u001b[33mEngineer Name\u001b[39m\u001b[33m'\u001b[39m]\u001b[38;5;132;01m}\u001b[39;00m\u001b[33m with \u001b[39m\u001b[38;5;132;01m{\u001b[39;00mengineer_workload.iloc[\u001b[32m0\u001b[39m][\u001b[33m'\u001b[39m\u001b[33mIssues Handled\u001b[39m\u001b[33m'\u001b[39m]\u001b[38;5;132;01m}\u001b[39;00m\u001b[33m issues handled.\u001b[39m\n\u001b[32m     16\u001b[39m \u001b[33m    \u001b[39m\u001b[33m\"\"\"\u001b[39m\n\u001b[32m     18\u001b[39m     \u001b[38;5;28;01mreturn\u001b[39;00m summary\n",
      "\u001b[36mFile \u001b[39m\u001b[32m~/.local/lib/python3.12/site-packages/pandas/core/series.py:1130\u001b[39m, in \u001b[36mSeries.__getitem__\u001b[39m\u001b[34m(self, key)\u001b[39m\n\u001b[32m   1127\u001b[39m     \u001b[38;5;28;01mreturn\u001b[39;00m \u001b[38;5;28mself\u001b[39m._values[key]\n\u001b[32m   1129\u001b[39m \u001b[38;5;28;01melif\u001b[39;00m key_is_scalar:\n\u001b[32m-> \u001b[39m\u001b[32m1130\u001b[39m     \u001b[38;5;28;01mreturn\u001b[39;00m \u001b[38;5;28;43mself\u001b[39;49m\u001b[43m.\u001b[49m\u001b[43m_get_value\u001b[49m\u001b[43m(\u001b[49m\u001b[43mkey\u001b[49m\u001b[43m)\u001b[49m\n\u001b[32m   1132\u001b[39m \u001b[38;5;66;03m# Convert generator to list before going through hashable part\u001b[39;00m\n\u001b[32m   1133\u001b[39m \u001b[38;5;66;03m# (We will iterate through the generator there to check for slices)\u001b[39;00m\n\u001b[32m   1134\u001b[39m \u001b[38;5;28;01mif\u001b[39;00m is_iterator(key):\n",
      "\u001b[36mFile \u001b[39m\u001b[32m~/.local/lib/python3.12/site-packages/pandas/core/series.py:1246\u001b[39m, in \u001b[36mSeries._get_value\u001b[39m\u001b[34m(self, label, takeable)\u001b[39m\n\u001b[32m   1243\u001b[39m     \u001b[38;5;28;01mreturn\u001b[39;00m \u001b[38;5;28mself\u001b[39m._values[label]\n\u001b[32m   1245\u001b[39m \u001b[38;5;66;03m# Similar to Index.get_value, but we do not fall back to positional\u001b[39;00m\n\u001b[32m-> \u001b[39m\u001b[32m1246\u001b[39m loc = \u001b[38;5;28;43mself\u001b[39;49m\u001b[43m.\u001b[49m\u001b[43mindex\u001b[49m\u001b[43m.\u001b[49m\u001b[43mget_loc\u001b[49m\u001b[43m(\u001b[49m\u001b[43mlabel\u001b[49m\u001b[43m)\u001b[49m\n\u001b[32m   1248\u001b[39m \u001b[38;5;28;01mif\u001b[39;00m is_integer(loc):\n\u001b[32m   1249\u001b[39m     \u001b[38;5;28;01mreturn\u001b[39;00m \u001b[38;5;28mself\u001b[39m._values[loc]\n",
      "\u001b[36mFile \u001b[39m\u001b[32m~/.local/lib/python3.12/site-packages/pandas/core/indexes/base.py:3819\u001b[39m, in \u001b[36mIndex.get_loc\u001b[39m\u001b[34m(self, key)\u001b[39m\n\u001b[32m   3814\u001b[39m     \u001b[38;5;28;01mif\u001b[39;00m \u001b[38;5;28misinstance\u001b[39m(casted_key, \u001b[38;5;28mslice\u001b[39m) \u001b[38;5;129;01mor\u001b[39;00m (\n\u001b[32m   3815\u001b[39m         \u001b[38;5;28misinstance\u001b[39m(casted_key, abc.Iterable)\n\u001b[32m   3816\u001b[39m         \u001b[38;5;129;01mand\u001b[39;00m \u001b[38;5;28many\u001b[39m(\u001b[38;5;28misinstance\u001b[39m(x, \u001b[38;5;28mslice\u001b[39m) \u001b[38;5;28;01mfor\u001b[39;00m x \u001b[38;5;129;01min\u001b[39;00m casted_key)\n\u001b[32m   3817\u001b[39m     ):\n\u001b[32m   3818\u001b[39m         \u001b[38;5;28;01mraise\u001b[39;00m InvalidIndexError(key)\n\u001b[32m-> \u001b[39m\u001b[32m3819\u001b[39m     \u001b[38;5;28;01mraise\u001b[39;00m \u001b[38;5;167;01mKeyError\u001b[39;00m(key) \u001b[38;5;28;01mfrom\u001b[39;00m\u001b[38;5;250m \u001b[39m\u001b[34;01merr\u001b[39;00m\n\u001b[32m   3820\u001b[39m \u001b[38;5;28;01mexcept\u001b[39;00m \u001b[38;5;167;01mTypeError\u001b[39;00m:\n\u001b[32m   3821\u001b[39m     \u001b[38;5;66;03m# If we have a listlike key, _check_indexing_error will raise\u001b[39;00m\n\u001b[32m   3822\u001b[39m     \u001b[38;5;66;03m#  InvalidIndexError. Otherwise we fall through and re-raise\u001b[39;00m\n\u001b[32m   3823\u001b[39m     \u001b[38;5;66;03m#  the TypeError.\u001b[39;00m\n\u001b[32m   3824\u001b[39m     \u001b[38;5;28mself\u001b[39m._check_indexing_error(key)\n",
      "\u001b[31mKeyError\u001b[39m: 'Issue Description'"
     ]
    }
   ],
   "source": [
    "\n",
    "# Generate and display summary text\n",
    "summary_text = generate_summary_text(daily_summary, weekly_summary, common_issues, engineer_workload)\n",
    "print(summary_text)\n",
    "    "
   ]
  }
 ],
 "metadata": {
  "kernelspec": {
   "display_name": "Python 3",
   "language": "python",
   "name": "python3"
  },
  "language_info": {
   "codemirror_mode": {
    "name": "ipython",
    "version": 3
   },
   "file_extension": ".py",
   "mimetype": "text/x-python",
   "name": "python",
   "nbconvert_exporter": "python",
   "pygments_lexer": "ipython3",
   "version": "3.12.11"
  }
 },
 "nbformat": 4,
 "nbformat_minor": 5
}
