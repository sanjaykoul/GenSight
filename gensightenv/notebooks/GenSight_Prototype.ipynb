{
 "cells": [
  {
   "cell_type": "markdown",
   "id": "69dd67f5",
   "metadata": {},
   "source": [
    "\n",
    "    # GenSight Prototype\n",
    "\n",
    "    This notebook demonstrates how to load and analyze daily IT issue tracker data using GenSight. It visualizes daily trends, engineer workload, and common issues using data from `demo_file.xlsx`.\n",
    "    "
   ]
  },
  {
   "cell_type": "code",
   "execution_count": 77,
   "id": "ec154e12",
   "metadata": {},
   "outputs": [
    {
     "ename": "ImportError",
     "evalue": "cannot import name 'plot_weekly_summary' from 'visualizer' (/workspaces/GenSight/gensightenv/src/visualizer.py)",
     "output_type": "error",
     "traceback": [
      "\u001b[31m---------------------------------------------------------------------------\u001b[39m",
      "\u001b[31mImportError\u001b[39m                               Traceback (most recent call last)",
      "\u001b[36mCell\u001b[39m\u001b[36m \u001b[39m\u001b[32mIn[77]\u001b[39m\u001b[32m, line 9\u001b[39m\n\u001b[32m      7\u001b[39m \u001b[38;5;28;01mfrom\u001b[39;00m\u001b[38;5;250m \u001b[39m\u001b[34;01mdata_loader\u001b[39;00m\u001b[38;5;250m \u001b[39m\u001b[38;5;28;01mimport\u001b[39;00m load_excel_data\n\u001b[32m      8\u001b[39m \u001b[38;5;28;01mfrom\u001b[39;00m\u001b[38;5;250m \u001b[39m\u001b[34;01maggregator\u001b[39;00m\u001b[38;5;250m \u001b[39m\u001b[38;5;28;01mimport\u001b[39;00m generate_summaries\n\u001b[32m----> \u001b[39m\u001b[32m9\u001b[39m \u001b[38;5;28;01mfrom\u001b[39;00m\u001b[38;5;250m \u001b[39m\u001b[34;01mvisualizer\u001b[39;00m\u001b[38;5;250m \u001b[39m\u001b[38;5;28;01mimport\u001b[39;00m plot_daily_summary, plot_weekly_summary, plot_common_issues, plot_engineer_workload \n\u001b[32m     10\u001b[39m \u001b[38;5;28;01mfrom\u001b[39;00m\u001b[38;5;250m \u001b[39m\u001b[34;01mgenai_insights\u001b[39;00m\u001b[38;5;250m \u001b[39m\u001b[38;5;28;01mimport\u001b[39;00m generate_summary_text\n",
      "\u001b[31mImportError\u001b[39m: cannot import name 'plot_weekly_summary' from 'visualizer' (/workspaces/GenSight/gensightenv/src/visualizer.py)"
     ]
    }
   ],
   "source": [
    "# Import necessary modules\n",
    "import sys\n",
    "import os\n",
    "sys.path.append(os.path.abspath('../src'))\n",
    "\n",
    "import pandas as pd\n",
    "from data_loader import load_excel_data\n",
    "from aggregator import generate_summaries\n",
    "from visualizer import plot_daily_summary, plot_weekly_summary, plot_common_issues, plot_engineer_workload \n",
    "from genai_insights import generate_summary_text\n",
    "\n",
    "    "
   ]
  },
  {
   "cell_type": "markdown",
   "id": "26d09005",
   "metadata": {},
   "source": [
    "\n",
    "    ## Load Excel Data\n",
    "\n",
    "    We load the issue tracker data from the Excel file located in the `sample_data` folder. Each sheet is named by date and contains daily issue records.\n",
    "    "
   ]
  },
  {
   "cell_type": "code",
   "execution_count": null,
   "id": "1dc15de0",
   "metadata": {},
   "outputs": [],
   "source": [
    "\n",
    "# Load the Excel data\n",
    "file_path = '../sample_data/demo_file.xlsx'\n",
    "df = load_excel_data(file_path)\n",
    "df['Date'] = pd.to_datetime(df['Date'])\n",
    "df.head()\n",
    "    "
   ]
  },
  {
   "cell_type": "markdown",
   "id": "55579261",
   "metadata": {},
   "source": [
    "\n",
    "    ## Generate Summaries\n",
    "\n",
    "    We generate daily, weekly, and monthly summaries, engineer workload distribution, and the top 10 most common issues.\n",
    "    "
   ]
  },
  {
   "cell_type": "code",
   "execution_count": null,
   "id": "67f42266",
   "metadata": {},
   "outputs": [],
   "source": [
    "\n",
    "# Generate summaries\n",
    "daily_summary, weekly_summary, monthly_summary, engineer_workload, common_issues = generate_summaries(df)\n",
    "    "
   ]
  },
  {
   "cell_type": "markdown",
   "id": "7933fcb3",
   "metadata": {},
   "source": [
    "\n",
    "    ## Visualize Data\n",
    "\n",
    "    We use bar plots to visualize:\n",
    "    - Daily issue counts\n",
    "    - Engineer workload\n",
    "    - Top 10 common issues\n",
    "    "
   ]
  },
  {
   "cell_type": "code",
   "execution_count": null,
   "id": "87535c59",
   "metadata": {},
   "outputs": [],
   "source": [
    "\n",
    "# Visualize the summaries\n",
    "%matplotlib inline\n",
    "plot_daily_summary(daily_summary)\n",
    "plot_weekly_summary(weekly_summary)\n",
    "plot_engineer_workload(engineer_workload)\n",
    "plot_common_issues(common_issues)\n",
    "    "
   ]
  },
  {
   "cell_type": "markdown",
   "id": "41c898e9",
   "metadata": {},
   "source": [
    "\n",
    "    ## Generate Summary Text\n",
    "\n",
    "    We use GenAI to generate a natural language summary of the trends and insights from the data.\n",
    "    "
   ]
  },
  {
   "cell_type": "code",
   "execution_count": null,
   "id": "9bf1fa10",
   "metadata": {},
   "outputs": [],
   "source": [
    "\n",
    "# Generate and display summary text\n",
    "summary_text = generate_summary_text(daily_summary, engineer_workload, common_issues)\n",
    "print(summary_text)\n",
    "    "
   ]
  }
 ],
 "metadata": {
  "kernelspec": {
   "display_name": "Python 3",
   "language": "python",
   "name": "python3"
  },
  "language_info": {
   "codemirror_mode": {
    "name": "ipython",
    "version": 3
   },
   "file_extension": ".py",
   "mimetype": "text/x-python",
   "name": "python",
   "nbconvert_exporter": "python",
   "pygments_lexer": "ipython3",
   "version": "3.12.11"
  }
 },
 "nbformat": 4,
 "nbformat_minor": 5
}
