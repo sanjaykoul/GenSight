{
 "cells": [
  {
   "cell_type": "markdown",
   "id": "3cdebdf7",
   "metadata": {},
   "source": [
    "# GenSight - AI-Powered Data Insights Tool"
   ]
  },
  {
   "cell_type": "markdown",
   "id": "ef2f2a98",
   "metadata": {},
   "source": [
    "## Step 1: Load Excel File with Multiple Sheets"
   ]
  },
  {
   "cell_type": "code",
   "execution_count": null,
   "id": "64bbe027",
   "metadata": {},
   "outputs": [],
   "source": [
    "\n",
    "import pandas as pd\n",
    "from openpyxl import load_workbook\n",
    "from datetime import datetime\n",
    "import matplotlib.pyplot as plt\n",
    "import seaborn as sns\n",
    "from transformers import pipeline\n",
    "\n",
    "# Load the Excel file\n",
    "file_path = \"sample_data/demo_file.xlsx\"  # Replace with your actual file path\n",
    "excel_data = pd.read_excel(file_path, sheet_name=None, engine='openpyxl')\n",
    "\n",
    "# Convert sheet names to datetime and store data\n",
    "data_by_date = {}\n",
    "for sheet_name, df in excel_data.items():\n",
    "    try:\n",
    "        date = datetime.strptime(sheet_name, \"%d-%m-%Y\")\n",
    "        data_by_date[date] = df\n",
    "    except ValueError:\n",
    "        print(f\"Skipping sheet: {sheet_name} (invalid date format)\")\n"
   ]
  },
  {
   "cell_type": "markdown",
   "id": "3380e6bf",
   "metadata": {},
   "source": [
    "## Step 2: Combine All Data into One DataFrame"
   ]
  },
  {
   "cell_type": "code",
   "execution_count": null,
   "id": "241a95cc",
   "metadata": {},
   "outputs": [],
   "source": [
    "\n",
    "all_data = pd.concat(data_by_date.values(), keys=data_by_date.keys())\n",
    "all_data.reset_index(level=0, inplace=True)\n",
    "all_data.rename(columns={'level_0': 'Date'}, inplace=True)\n"
   ]
  },
  {
   "cell_type": "markdown",
   "id": "e55904f1",
   "metadata": {},
   "source": [
    "## Step 3: Daily, Weekly, Monthly Aggregation"
   ]
  },
  {
   "cell_type": "code",
   "execution_count": null,
   "id": "570e6128",
   "metadata": {},
   "outputs": [],
   "source": [
    "\n",
    "all_data['Week'] = all_data['Date'].dt.to_period('W').apply(lambda r: r.start_time)\n",
    "all_data['Month'] = all_data['Date'].dt.to_period('M').apply(lambda r: r.start_time)\n",
    "\n",
    "# Example: Aggregating numeric columns\n",
    "daily_summary = all_data.groupby('Date').sum()\n",
    "weekly_summary = all_data.groupby('Week').sum()\n",
    "monthly_summary = all_data.groupby('Month').sum()\n"
   ]
  },
  {
   "cell_type": "markdown",
   "id": "734b3cd9",
   "metadata": {},
   "source": [
    "## Step 4: Visualizations"
   ]
  },
  {
   "cell_type": "code",
   "execution_count": null,
   "id": "48563b61",
   "metadata": {},
   "outputs": [],
   "source": [
    "\n",
    "plt.figure(figsize=(10, 5))\n",
    "sns.lineplot(data=daily_summary)\n",
    "plt.title(\"Daily Trends\")\n",
    "plt.xticks(rotation=45)\n",
    "plt.tight_layout()\n",
    "plt.show()\n"
   ]
  },
  {
   "cell_type": "markdown",
   "id": "9e8a9b84",
   "metadata": {},
   "source": [
    "## Step 5: GenAI Summary (Placeholder)"
   ]
  },
  {
   "cell_type": "code",
   "execution_count": null,
   "id": "055d8ec7",
   "metadata": {},
   "outputs": [],
   "source": [
    "\n",
    "# Use a summarization pipeline (requires internet access and model)\n",
    "summarizer = pipeline(\"summarization\")\n",
    "summary_text = summarizer(daily_summary.to_string(), max_length=100, min_length=30, do_sample=False)\n",
    "\n",
    "print(\"\n",
    "GenAI Summary of Daily Trends:\")\n",
    "print(summary_text[0]['summary_text'])\n"
   ]
  }
 ],
 "metadata": {},
 "nbformat": 4,
 "nbformat_minor": 5
}
