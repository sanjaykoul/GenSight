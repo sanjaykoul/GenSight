# GenSight - AI-Powered Data Insights Tool

# ----------------------------------------
# Step 1: Load Excel File with Multiple Sheets
# ----------------------------------------
import pandas as pd
from openpyxl import load_workbook
from datetime import datetime
import matplotlib.pyplot as plt
import seaborn as sns
from transformers import pipeline

# Load the Excel file
file_path = "sample_data/demo_file.xlsx"  # Replace with your actual file path
excel_data = pd.read_excel(file_path, sheet_name=None, engine='openpyxl')

# Convert sheet names to datetime and store data
data_by_date = {}
for sheet_name, df in excel_data.items():
    try:
        date = datetime.strptime(sheet_name, "%d-%m-%Y")
        data_by_date[date] = df
    except ValueError:
        print(f"Skipping sheet: {sheet_name} (invalid date format)")

# ----------------------------------------
# Step 2: Combine All Data into One DataFrame
# ----------------------------------------
all_data = pd.concat(data_by_date.values(), keys=data_by_date.keys())
all_data.reset_index(level=0, inplace=True)
all_data.rename(columns={'level_0': 'Date'}, inplace=True)

# ----------------------------------------
# Step 3: Daily, Weekly, Monthly Aggregation
# ----------------------------------------
all_data['Week'] = all_data['Date'].dt.to_period('W').apply(lambda r: r.start_time)
all_data['Month'] = all_data['Date'].dt.to_period('M').apply(lambda r: r.start_time)

# Example: Aggregating numeric columns
daily_summary = all_data.groupby('Date').sum()
weekly_summary = all_data.groupby('Week').sum()
monthly_summary = all_data.groupby('Month').sum()

# ----------------------------------------
# Step 4: Visualizations
# ----------------------------------------
plt.figure(figsize=(10, 5))
sns.lineplot(data=daily_summary)
plt.title("Daily Trends")
plt.xticks(rotation=45)
plt.tight_layout()
plt.show()

# ----------------------------------------
# Step 5: GenAI Summary (Placeholder)
# ----------------------------------------
# Use a summarization pipeline (requires internet access and model)
summarizer = pipeline("summarization")
summary_text = summarizer(daily_summary.to_string(), max_length=100, min_length=30, do_sample=False)

print("\nGenAI Summary of Daily Trends:")
print(summary_text[0]['summary_text'])
